{
 "cells": [
  {
   "cell_type": "markdown",
   "metadata": {},
   "source": [
    "## Murphy and Applegate\n",
    "### Anomaly Detection Project\n",
    "#### Tyler's Second Notebook"
   ]
  },
  {
   "cell_type": "code",
   "execution_count": 1,
   "metadata": {},
   "outputs": [],
   "source": [
    "from __future__ import division\n",
    "import itertools\n",
    "import warnings\n",
    "warnings.filterwarnings(\"ignore\")\n",
    "import matplotlib.pyplot as plt\n",
    "import matplotlib.dates as mdates\n",
    "import numpy as np\n",
    "import pandas as pd\n",
    "import math\n",
    "from sklearn import metrics\n",
    "from random import randint\n",
    "from matplotlib import style\n",
    "import seaborn as sns\n",
    "\n",
    "from sklearn.cluster import DBSCAN\n",
    "from sklearn.preprocessing import MinMaxScaler\n",
    "\n",
    "from env import host, user, password\n",
    "import acquire\n",
    "import prepare\n",
    "import explore"
   ]
  },
  {
   "cell_type": "markdown",
   "metadata": {},
   "source": [
    "### Data Wrangling"
   ]
  },
  {
   "cell_type": "code",
   "execution_count": 2,
   "metadata": {},
   "outputs": [],
   "source": [
    "# Data Acquisition\n",
    "df = acquire.get_cohort_curr_data()"
   ]
  },
  {
   "cell_type": "code",
   "execution_count": 3,
   "metadata": {},
   "outputs": [],
   "source": [
    "# Initial Prep\n",
    "df = prepare.initial_prep(df)"
   ]
  },
  {
   "cell_type": "markdown",
   "metadata": {},
   "source": [
    "## Question 2\n",
    "- 2. Is there a cohort that referred to a lesson significantly more than other cohorts seemed to gloss over?"
   ]
  },
  {
   "cell_type": "code",
   "execution_count": 4,
   "metadata": {},
   "outputs": [],
   "source": [
    "# split by program\n",
    "df_1, df_2, df_3, df_4 = explore.q2_prep(df)"
   ]
  },
  {
   "cell_type": "code",
   "execution_count": 5,
   "metadata": {},
   "outputs": [
    {
     "data": {
      "text/html": [
       "<div>\n",
       "<style scoped>\n",
       "    .dataframe tbody tr th:only-of-type {\n",
       "        vertical-align: middle;\n",
       "    }\n",
       "\n",
       "    .dataframe tbody tr th {\n",
       "        vertical-align: top;\n",
       "    }\n",
       "\n",
       "    .dataframe thead th {\n",
       "        text-align: right;\n",
       "    }\n",
       "</style>\n",
       "<table border=\"1\" class=\"dataframe\">\n",
       "  <thead>\n",
       "    <tr style=\"text-align: right;\">\n",
       "      <th></th>\n",
       "      <th>min_x</th>\n",
       "      <th>min_y</th>\n",
       "      <th>max_x</th>\n",
       "      <th>max_y</th>\n",
       "      <th>mean</th>\n",
       "      <th>sum</th>\n",
       "      <th>range</th>\n",
       "      <th>zscore</th>\n",
       "    </tr>\n",
       "    <tr>\n",
       "      <th>endpoint</th>\n",
       "      <th></th>\n",
       "      <th></th>\n",
       "      <th></th>\n",
       "      <th></th>\n",
       "      <th></th>\n",
       "      <th></th>\n",
       "      <th></th>\n",
       "      <th></th>\n",
       "    </tr>\n",
       "  </thead>\n",
       "  <tbody>\n",
       "    <tr>\n",
       "      <th>java-iii/jsp-and-jstl</th>\n",
       "      <td>26</td>\n",
       "      <td>Arches</td>\n",
       "      <td>93</td>\n",
       "      <td>Olympic</td>\n",
       "      <td>56.0</td>\n",
       "      <td>224</td>\n",
       "      <td>67</td>\n",
       "      <td>2.7904</td>\n",
       "    </tr>\n",
       "  </tbody>\n",
       "</table>\n",
       "</div>"
      ],
      "text/plain": [
       "                       min_x   min_y  max_x    max_y  mean  sum  range  zscore\n",
       "endpoint                                                                      \n",
       "java-iii/jsp-and-jstl     26  Arches     93  Olympic  56.0  224     67  2.7904"
      ]
     },
     "execution_count": 5,
     "metadata": {},
     "output_type": "execute_result"
    }
   ],
   "source": [
    "# look at full stack\n",
    "df_1 = explore.add_math(df_1)\n",
    "df_1"
   ]
  },
  {
   "cell_type": "markdown",
   "metadata": {},
   "source": [
    "#### Question 2 - Full Stack - Key Findings & Takeaways:\n",
    "- We only wanted to look at values where the min number of page views > 10\n",
    "    - The assumption is that anything < 10 means it's probably not class related\n",
    "- There are 2 lessons where the range is greater than 50 ('java-iii/jsp-and-jstl', 'java-iii/jsp-and-jstl') \n",
    "- Both show Olympic viewing the lessons far more often than Arches"
   ]
  },
  {
   "cell_type": "code",
   "execution_count": 6,
   "metadata": {},
   "outputs": [
    {
     "data": {
      "text/html": [
       "<div>\n",
       "<style scoped>\n",
       "    .dataframe tbody tr th:only-of-type {\n",
       "        vertical-align: middle;\n",
       "    }\n",
       "\n",
       "    .dataframe tbody tr th {\n",
       "        vertical-align: top;\n",
       "    }\n",
       "\n",
       "    .dataframe thead th {\n",
       "        text-align: right;\n",
       "    }\n",
       "</style>\n",
       "<table border=\"1\" class=\"dataframe\">\n",
       "  <thead>\n",
       "    <tr style=\"text-align: right;\">\n",
       "      <th></th>\n",
       "      <th>min_x</th>\n",
       "      <th>min_y</th>\n",
       "      <th>max_x</th>\n",
       "      <th>max_y</th>\n",
       "      <th>mean</th>\n",
       "      <th>sum</th>\n",
       "      <th>range</th>\n",
       "      <th>zscore</th>\n",
       "    </tr>\n",
       "    <tr>\n",
       "      <th>endpoint</th>\n",
       "      <th></th>\n",
       "      <th></th>\n",
       "      <th></th>\n",
       "      <th></th>\n",
       "      <th></th>\n",
       "      <th></th>\n",
       "      <th></th>\n",
       "      <th></th>\n",
       "    </tr>\n",
       "  </thead>\n",
       "  <tbody>\n",
       "    <tr>\n",
       "      <th>html-css/css-ii/bootstrap-grid-system</th>\n",
       "      <td>23</td>\n",
       "      <td>Andromeda</td>\n",
       "      <td>418</td>\n",
       "      <td>Zion</td>\n",
       "      <td>251.12</td>\n",
       "      <td>6278</td>\n",
       "      <td>395</td>\n",
       "      <td>17.4116</td>\n",
       "    </tr>\n",
       "  </tbody>\n",
       "</table>\n",
       "</div>"
      ],
      "text/plain": [
       "                                       min_x      min_y  max_x max_y    mean  \\\n",
       "endpoint                                                                       \n",
       "html-css/css-ii/bootstrap-grid-system     23  Andromeda    418  Zion  251.12   \n",
       "\n",
       "                                        sum  range   zscore  \n",
       "endpoint                                                     \n",
       "html-css/css-ii/bootstrap-grid-system  6278    395  17.4116  "
      ]
     },
     "execution_count": 6,
     "metadata": {},
     "output_type": "execute_result"
    }
   ],
   "source": [
    "# look at java\n",
    "df_2 = explore.add_math(df_2)\n",
    "df_2"
   ]
  },
  {
   "cell_type": "markdown",
   "metadata": {},
   "source": [
    "#### Question 2 - Java - Key Findings & Takeaways:\n",
    "- We only wanted to look at values where the min number of page views > 10\n",
    "    - The assumption is that anything < 10 means it's probably not class related\n",
    "- There is only 1 lesson where the range is greater than 50 ('html-css/css-ii/bootstrap-grid-system\t')\n",
    "- This shows Zion viewing the lesson far more often than Andromeda"
   ]
  },
  {
   "cell_type": "code",
   "execution_count": 7,
   "metadata": {},
   "outputs": [
    {
     "data": {
      "text/html": [
       "<div>\n",
       "<style scoped>\n",
       "    .dataframe tbody tr th:only-of-type {\n",
       "        vertical-align: middle;\n",
       "    }\n",
       "\n",
       "    .dataframe tbody tr th {\n",
       "        vertical-align: top;\n",
       "    }\n",
       "\n",
       "    .dataframe thead th {\n",
       "        text-align: right;\n",
       "    }\n",
       "</style>\n",
       "<table border=\"1\" class=\"dataframe\">\n",
       "  <thead>\n",
       "    <tr style=\"text-align: right;\">\n",
       "      <th></th>\n",
       "      <th>min_x</th>\n",
       "      <th>min_y</th>\n",
       "      <th>max_x</th>\n",
       "      <th>max_y</th>\n",
       "      <th>mean</th>\n",
       "      <th>sum</th>\n",
       "      <th>range</th>\n",
       "      <th>zscore</th>\n",
       "    </tr>\n",
       "    <tr>\n",
       "      <th>endpoint</th>\n",
       "      <th></th>\n",
       "      <th></th>\n",
       "      <th></th>\n",
       "      <th></th>\n",
       "      <th></th>\n",
       "      <th></th>\n",
       "      <th></th>\n",
       "      <th></th>\n",
       "    </tr>\n",
       "  </thead>\n",
       "  <tbody>\n",
       "    <tr>\n",
       "      <th>search/search_index.json</th>\n",
       "      <td>162</td>\n",
       "      <td>Bayes</td>\n",
       "      <td>664</td>\n",
       "      <td>Florence</td>\n",
       "      <td>440.6</td>\n",
       "      <td>2203</td>\n",
       "      <td>502</td>\n",
       "      <td>4.9759</td>\n",
       "    </tr>\n",
       "    <tr>\n",
       "      <th>classification/overview</th>\n",
       "      <td>35</td>\n",
       "      <td>Bayes</td>\n",
       "      <td>1109</td>\n",
       "      <td>Florence</td>\n",
       "      <td>357.0</td>\n",
       "      <td>1785</td>\n",
       "      <td>1074</td>\n",
       "      <td>4.0318</td>\n",
       "    </tr>\n",
       "    <tr>\n",
       "      <th>classification/scale_features_or_not.svg</th>\n",
       "      <td>28</td>\n",
       "      <td>Bayes</td>\n",
       "      <td>943</td>\n",
       "      <td>Florence</td>\n",
       "      <td>318.0</td>\n",
       "      <td>1590</td>\n",
       "      <td>915</td>\n",
       "      <td>3.5913</td>\n",
       "    </tr>\n",
       "    <tr>\n",
       "      <th>fundamentals/AI-ML-DL-timeline.jpg</th>\n",
       "      <td>24</td>\n",
       "      <td>Bayes</td>\n",
       "      <td>624</td>\n",
       "      <td>Florence</td>\n",
       "      <td>288.6</td>\n",
       "      <td>1443</td>\n",
       "      <td>600</td>\n",
       "      <td>3.2593</td>\n",
       "    </tr>\n",
       "    <tr>\n",
       "      <th>fundamentals/modern-data-scientist.jpg</th>\n",
       "      <td>24</td>\n",
       "      <td>Bayes</td>\n",
       "      <td>627</td>\n",
       "      <td>Florence</td>\n",
       "      <td>287.6</td>\n",
       "      <td>1438</td>\n",
       "      <td>603</td>\n",
       "      <td>3.2480</td>\n",
       "    </tr>\n",
       "    <tr>\n",
       "      <th>sql/mysql-overview</th>\n",
       "      <td>27</td>\n",
       "      <td>Bayes</td>\n",
       "      <td>774</td>\n",
       "      <td>Florence</td>\n",
       "      <td>284.8</td>\n",
       "      <td>1424</td>\n",
       "      <td>747</td>\n",
       "      <td>3.2164</td>\n",
       "    </tr>\n",
       "    <tr>\n",
       "      <th>fundamentals/intro-to-data-science</th>\n",
       "      <td>25</td>\n",
       "      <td>Bayes</td>\n",
       "      <td>615</td>\n",
       "      <td>Florence</td>\n",
       "      <td>282.6</td>\n",
       "      <td>1413</td>\n",
       "      <td>590</td>\n",
       "      <td>3.1915</td>\n",
       "    </tr>\n",
       "  </tbody>\n",
       "</table>\n",
       "</div>"
      ],
      "text/plain": [
       "                                          min_x  min_y  max_x     max_y  \\\n",
       "endpoint                                                                  \n",
       "search/search_index.json                    162  Bayes    664  Florence   \n",
       "classification/overview                      35  Bayes   1109  Florence   \n",
       "classification/scale_features_or_not.svg     28  Bayes    943  Florence   \n",
       "fundamentals/AI-ML-DL-timeline.jpg           24  Bayes    624  Florence   \n",
       "fundamentals/modern-data-scientist.jpg       24  Bayes    627  Florence   \n",
       "sql/mysql-overview                           27  Bayes    774  Florence   \n",
       "fundamentals/intro-to-data-science           25  Bayes    615  Florence   \n",
       "\n",
       "                                           mean   sum  range  zscore  \n",
       "endpoint                                                              \n",
       "search/search_index.json                  440.6  2203    502  4.9759  \n",
       "classification/overview                   357.0  1785   1074  4.0318  \n",
       "classification/scale_features_or_not.svg  318.0  1590    915  3.5913  \n",
       "fundamentals/AI-ML-DL-timeline.jpg        288.6  1443    600  3.2593  \n",
       "fundamentals/modern-data-scientist.jpg    287.6  1438    603  3.2480  \n",
       "sql/mysql-overview                        284.8  1424    747  3.2164  \n",
       "fundamentals/intro-to-data-science        282.6  1413    590  3.1915  "
      ]
     },
     "execution_count": 7,
     "metadata": {},
     "output_type": "execute_result"
    }
   ],
   "source": [
    "# look at Data Science\n",
    "df_3 = explore.add_math(df_3)\n",
    "df_3"
   ]
  },
  {
   "cell_type": "markdown",
   "metadata": {},
   "source": [
    "#### Question 2 - Data Science - Key Findings & Takeaways:\n",
    "- We only wanted to look at values where the min number of page views > 10\n",
    "    - The assumption is that anything < 10 means it's probably not class related\n",
    "- There countless lessons where various cohorts ('Florence, Easley, Darden') outviewed Bayes\n",
    "- Some evidence to suggest positive relationship between cohort dates attended and page views"
   ]
  },
  {
   "cell_type": "code",
   "execution_count": 8,
   "metadata": {},
   "outputs": [
    {
     "data": {
      "text/html": [
       "<div>\n",
       "<style scoped>\n",
       "    .dataframe tbody tr th:only-of-type {\n",
       "        vertical-align: middle;\n",
       "    }\n",
       "\n",
       "    .dataframe tbody tr th {\n",
       "        vertical-align: top;\n",
       "    }\n",
       "\n",
       "    .dataframe thead th {\n",
       "        text-align: right;\n",
       "    }\n",
       "</style>\n",
       "<table border=\"1\" class=\"dataframe\">\n",
       "  <thead>\n",
       "    <tr style=\"text-align: right;\">\n",
       "      <th></th>\n",
       "      <th>min_x</th>\n",
       "      <th>min_y</th>\n",
       "      <th>max_x</th>\n",
       "      <th>max_y</th>\n",
       "      <th>mean</th>\n",
       "      <th>sum</th>\n",
       "      <th>range</th>\n",
       "      <th>zscore</th>\n",
       "    </tr>\n",
       "    <tr>\n",
       "      <th>endpoint</th>\n",
       "      <th></th>\n",
       "      <th></th>\n",
       "      <th></th>\n",
       "      <th></th>\n",
       "      <th></th>\n",
       "      <th></th>\n",
       "      <th></th>\n",
       "      <th></th>\n",
       "    </tr>\n",
       "  </thead>\n",
       "  <tbody>\n",
       "  </tbody>\n",
       "</table>\n",
       "</div>"
      ],
      "text/plain": [
       "Empty DataFrame\n",
       "Columns: [min_x, min_y, max_x, max_y, mean, sum, range, zscore]\n",
       "Index: []"
      ]
     },
     "execution_count": 8,
     "metadata": {},
     "output_type": "execute_result"
    }
   ],
   "source": [
    "# look at Front End\n",
    "explore.add_math(df_4)"
   ]
  },
  {
   "cell_type": "markdown",
   "metadata": {},
   "source": [
    "#### Question 2 - Front End - Key Findings & Takeaways:\n",
    "- We only wanted to look at values where the min number of page views > 10\n",
    "    - The assumption is that anything < 10 means it's probably not class related\n",
    "- No values showed up (not much data for this program)\n",
    "- Appears to only have been 1 cohort, for a very brief period of time"
   ]
  },
  {
   "cell_type": "code",
   "execution_count": null,
   "metadata": {},
   "outputs": [],
   "source": []
  }
 ],
 "metadata": {
  "kernelspec": {
   "display_name": "Python 3.8.5 64-bit ('base': conda)",
   "language": "python",
   "name": "python385jvsc74a57bd0b64057e63add2b45b1ffc7eab9b09c8889b419c878e2fdf0d08f837f0fc857a7"
  },
  "language_info": {
   "codemirror_mode": {
    "name": "ipython",
    "version": 3
   },
   "file_extension": ".py",
   "mimetype": "text/x-python",
   "name": "python",
   "nbconvert_exporter": "python",
   "pygments_lexer": "ipython3",
   "version": "3.8.5"
  }
 },
 "nbformat": 4,
 "nbformat_minor": 4
}
