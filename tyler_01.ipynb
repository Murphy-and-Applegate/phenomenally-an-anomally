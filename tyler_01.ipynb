{
 "cells": [
  {
   "cell_type": "markdown",
   "metadata": {},
   "source": [
    "## Murphy and Applegate\n",
    "### Anomaly Detection Project\n",
    "#### Tyler's First Notebook"
   ]
  },
  {
   "cell_type": "code",
   "execution_count": 1,
   "metadata": {},
   "outputs": [],
   "source": [
    "from __future__ import division\n",
    "import itertools\n",
    "import warnings\n",
    "warnings.filterwarnings(\"ignore\")\n",
    "import matplotlib.pyplot as plt\n",
    "import matplotlib.dates as mdates\n",
    "import numpy as np\n",
    "import pandas as pd\n",
    "import math\n",
    "from sklearn import metrics\n",
    "from random import randint\n",
    "from matplotlib import style\n",
    "import seaborn as sns\n",
    "\n",
    "from sklearn.cluster import DBSCAN\n",
    "from sklearn.preprocessing import MinMaxScaler\n",
    "\n",
    "from env import host, user, password\n",
    "import acquire\n",
    "import prepare\n",
    "import explore"
   ]
  },
  {
   "cell_type": "code",
   "execution_count": 2,
   "metadata": {},
   "outputs": [],
   "source": [
    "df = acquire.get_cohort_curr_data()"
   ]
  },
  {
   "cell_type": "code",
   "execution_count": 3,
   "metadata": {},
   "outputs": [
    {
     "data": {
      "text/html": [
       "<div>\n",
       "<style scoped>\n",
       "    .dataframe tbody tr th:only-of-type {\n",
       "        vertical-align: middle;\n",
       "    }\n",
       "\n",
       "    .dataframe tbody tr th {\n",
       "        vertical-align: top;\n",
       "    }\n",
       "\n",
       "    .dataframe thead th {\n",
       "        text-align: right;\n",
       "    }\n",
       "</style>\n",
       "<table border=\"1\" class=\"dataframe\">\n",
       "  <thead>\n",
       "    <tr style=\"text-align: right;\">\n",
       "      <th></th>\n",
       "      <th>date</th>\n",
       "      <th>time</th>\n",
       "      <th>path</th>\n",
       "      <th>user_id</th>\n",
       "      <th>cohort_id</th>\n",
       "      <th>ip</th>\n",
       "      <th>id</th>\n",
       "      <th>name</th>\n",
       "      <th>slack</th>\n",
       "      <th>start_date</th>\n",
       "      <th>end_date</th>\n",
       "      <th>created_at</th>\n",
       "      <th>updated_at</th>\n",
       "      <th>deleted_at</th>\n",
       "      <th>program_id</th>\n",
       "    </tr>\n",
       "  </thead>\n",
       "  <tbody>\n",
       "    <tr>\n",
       "      <th>0</th>\n",
       "      <td>2018-01-26</td>\n",
       "      <td>09:55:03</td>\n",
       "      <td>/</td>\n",
       "      <td>1</td>\n",
       "      <td>8.0</td>\n",
       "      <td>97.105.19.61</td>\n",
       "      <td>8</td>\n",
       "      <td>Hampton</td>\n",
       "      <td>#hampton</td>\n",
       "      <td>2015-09-22</td>\n",
       "      <td>2016-02-06</td>\n",
       "      <td>2016-06-14 19:52:26</td>\n",
       "      <td>2016-06-14 19:52:26</td>\n",
       "      <td>NaN</td>\n",
       "      <td>1</td>\n",
       "    </tr>\n",
       "    <tr>\n",
       "      <th>1</th>\n",
       "      <td>2018-01-26</td>\n",
       "      <td>09:56:02</td>\n",
       "      <td>java-ii</td>\n",
       "      <td>1</td>\n",
       "      <td>8.0</td>\n",
       "      <td>97.105.19.61</td>\n",
       "      <td>8</td>\n",
       "      <td>Hampton</td>\n",
       "      <td>#hampton</td>\n",
       "      <td>2015-09-22</td>\n",
       "      <td>2016-02-06</td>\n",
       "      <td>2016-06-14 19:52:26</td>\n",
       "      <td>2016-06-14 19:52:26</td>\n",
       "      <td>NaN</td>\n",
       "      <td>1</td>\n",
       "    </tr>\n",
       "    <tr>\n",
       "      <th>2</th>\n",
       "      <td>2018-01-26</td>\n",
       "      <td>09:56:05</td>\n",
       "      <td>java-ii/object-oriented-programming</td>\n",
       "      <td>1</td>\n",
       "      <td>8.0</td>\n",
       "      <td>97.105.19.61</td>\n",
       "      <td>8</td>\n",
       "      <td>Hampton</td>\n",
       "      <td>#hampton</td>\n",
       "      <td>2015-09-22</td>\n",
       "      <td>2016-02-06</td>\n",
       "      <td>2016-06-14 19:52:26</td>\n",
       "      <td>2016-06-14 19:52:26</td>\n",
       "      <td>NaN</td>\n",
       "      <td>1</td>\n",
       "    </tr>\n",
       "    <tr>\n",
       "      <th>3</th>\n",
       "      <td>2018-01-26</td>\n",
       "      <td>09:56:06</td>\n",
       "      <td>slides/object_oriented_programming</td>\n",
       "      <td>1</td>\n",
       "      <td>8.0</td>\n",
       "      <td>97.105.19.61</td>\n",
       "      <td>8</td>\n",
       "      <td>Hampton</td>\n",
       "      <td>#hampton</td>\n",
       "      <td>2015-09-22</td>\n",
       "      <td>2016-02-06</td>\n",
       "      <td>2016-06-14 19:52:26</td>\n",
       "      <td>2016-06-14 19:52:26</td>\n",
       "      <td>NaN</td>\n",
       "      <td>1</td>\n",
       "    </tr>\n",
       "    <tr>\n",
       "      <th>4</th>\n",
       "      <td>2018-01-26</td>\n",
       "      <td>09:56:24</td>\n",
       "      <td>javascript-i/conditionals</td>\n",
       "      <td>2</td>\n",
       "      <td>22.0</td>\n",
       "      <td>97.105.19.61</td>\n",
       "      <td>22</td>\n",
       "      <td>Teddy</td>\n",
       "      <td>#teddy</td>\n",
       "      <td>2018-01-08</td>\n",
       "      <td>2018-05-17</td>\n",
       "      <td>2018-01-08 13:59:10</td>\n",
       "      <td>2018-01-08 13:59:10</td>\n",
       "      <td>NaN</td>\n",
       "      <td>2</td>\n",
       "    </tr>\n",
       "  </tbody>\n",
       "</table>\n",
       "</div>"
      ],
      "text/plain": [
       "         date      time                                 path  user_id  \\\n",
       "0  2018-01-26  09:55:03                                    /        1   \n",
       "1  2018-01-26  09:56:02                              java-ii        1   \n",
       "2  2018-01-26  09:56:05  java-ii/object-oriented-programming        1   \n",
       "3  2018-01-26  09:56:06   slides/object_oriented_programming        1   \n",
       "4  2018-01-26  09:56:24            javascript-i/conditionals        2   \n",
       "\n",
       "   cohort_id            ip  id     name     slack  start_date    end_date  \\\n",
       "0        8.0  97.105.19.61   8  Hampton  #hampton  2015-09-22  2016-02-06   \n",
       "1        8.0  97.105.19.61   8  Hampton  #hampton  2015-09-22  2016-02-06   \n",
       "2        8.0  97.105.19.61   8  Hampton  #hampton  2015-09-22  2016-02-06   \n",
       "3        8.0  97.105.19.61   8  Hampton  #hampton  2015-09-22  2016-02-06   \n",
       "4       22.0  97.105.19.61  22    Teddy    #teddy  2018-01-08  2018-05-17   \n",
       "\n",
       "            created_at           updated_at  deleted_at  program_id  \n",
       "0  2016-06-14 19:52:26  2016-06-14 19:52:26         NaN           1  \n",
       "1  2016-06-14 19:52:26  2016-06-14 19:52:26         NaN           1  \n",
       "2  2016-06-14 19:52:26  2016-06-14 19:52:26         NaN           1  \n",
       "3  2016-06-14 19:52:26  2016-06-14 19:52:26         NaN           1  \n",
       "4  2018-01-08 13:59:10  2018-01-08 13:59:10         NaN           2  "
      ]
     },
     "execution_count": 3,
     "metadata": {},
     "output_type": "execute_result"
    }
   ],
   "source": [
    "df.head()"
   ]
  },
  {
   "cell_type": "code",
   "execution_count": 4,
   "metadata": {},
   "outputs": [
    {
     "data": {
      "text/plain": [
       "(847330, 15)"
      ]
     },
     "execution_count": 4,
     "metadata": {},
     "output_type": "execute_result"
    }
   ],
   "source": [
    "df.shape"
   ]
  },
  {
   "cell_type": "code",
   "execution_count": 5,
   "metadata": {},
   "outputs": [
    {
     "name": "stdout",
     "output_type": "stream",
     "text": [
      "<class 'pandas.core.frame.DataFrame'>\n",
      "Int64Index: 847330 entries, 0 to 847329\n",
      "Data columns (total 15 columns):\n",
      " #   Column      Non-Null Count   Dtype  \n",
      "---  ------      --------------   -----  \n",
      " 0   date        847330 non-null  object \n",
      " 1   time        847330 non-null  object \n",
      " 2   path        847329 non-null  object \n",
      " 3   user_id     847330 non-null  int64  \n",
      " 4   cohort_id   847330 non-null  float64\n",
      " 5   ip          847330 non-null  object \n",
      " 6   id          847330 non-null  int64  \n",
      " 7   name        847330 non-null  object \n",
      " 8   slack       847330 non-null  object \n",
      " 9   start_date  847330 non-null  object \n",
      " 10  end_date    847330 non-null  object \n",
      " 11  created_at  847330 non-null  object \n",
      " 12  updated_at  847330 non-null  object \n",
      " 13  deleted_at  0 non-null       float64\n",
      " 14  program_id  847330 non-null  int64  \n",
      "dtypes: float64(2), int64(3), object(10)\n",
      "memory usage: 103.4+ MB\n"
     ]
    }
   ],
   "source": [
    "df.info()"
   ]
  },
  {
   "cell_type": "markdown",
   "metadata": {},
   "source": [
    "### Initial Prep To-Do:\n",
    "- Concat 'date' and 'time' to datetime and set as index\n",
    "- Convert 'start_date', 'end_date', 'created_at', 'updated_at' to datetime\n",
    "- Drop 'deleted_at'\n",
    "- Create new column that maps out whether DS or WebDev"
   ]
  },
  {
   "cell_type": "code",
   "execution_count": 6,
   "metadata": {},
   "outputs": [],
   "source": [
    "df = prepare.initial_prep(df)"
   ]
  },
  {
   "cell_type": "code",
   "execution_count": 7,
   "metadata": {},
   "outputs": [
    {
     "name": "stdout",
     "output_type": "stream",
     "text": [
      "<class 'pandas.core.frame.DataFrame'>\n",
      "DatetimeIndex: 847329 entries, 2018-01-26 09:55:03 to 2021-04-21 16:44:39\n",
      "Data columns (total 13 columns):\n",
      " #   Column      Non-Null Count   Dtype         \n",
      "---  ------      --------------   -----         \n",
      " 0   endpoint    847329 non-null  object        \n",
      " 1   user_id     847329 non-null  int64         \n",
      " 2   cohort_id   847329 non-null  float64       \n",
      " 3   ip          847329 non-null  object        \n",
      " 4   id          847329 non-null  int64         \n",
      " 5   cohort      847329 non-null  object        \n",
      " 6   slack       847329 non-null  object        \n",
      " 7   start_date  847329 non-null  datetime64[ns]\n",
      " 8   end_date    847329 non-null  datetime64[ns]\n",
      " 9   created_at  847329 non-null  datetime64[ns]\n",
      " 10  updated_at  847329 non-null  datetime64[ns]\n",
      " 11  program_id  847329 non-null  int64         \n",
      " 12  program     847329 non-null  object        \n",
      "dtypes: datetime64[ns](4), float64(1), int64(3), object(5)\n",
      "memory usage: 90.5+ MB\n"
     ]
    }
   ],
   "source": [
    "df.info()"
   ]
  },
  {
   "cell_type": "code",
   "execution_count": 8,
   "metadata": {},
   "outputs": [
    {
     "data": {
      "text/html": [
       "<div>\n",
       "<style scoped>\n",
       "    .dataframe tbody tr th:only-of-type {\n",
       "        vertical-align: middle;\n",
       "    }\n",
       "\n",
       "    .dataframe tbody tr th {\n",
       "        vertical-align: top;\n",
       "    }\n",
       "\n",
       "    .dataframe thead th {\n",
       "        text-align: right;\n",
       "    }\n",
       "</style>\n",
       "<table border=\"1\" class=\"dataframe\">\n",
       "  <thead>\n",
       "    <tr style=\"text-align: right;\">\n",
       "      <th></th>\n",
       "      <th>endpoint</th>\n",
       "      <th>user_id</th>\n",
       "      <th>cohort_id</th>\n",
       "      <th>ip</th>\n",
       "      <th>id</th>\n",
       "      <th>cohort</th>\n",
       "      <th>slack</th>\n",
       "      <th>start_date</th>\n",
       "      <th>end_date</th>\n",
       "      <th>created_at</th>\n",
       "      <th>updated_at</th>\n",
       "      <th>program_id</th>\n",
       "      <th>program</th>\n",
       "    </tr>\n",
       "    <tr>\n",
       "      <th>dt</th>\n",
       "      <th></th>\n",
       "      <th></th>\n",
       "      <th></th>\n",
       "      <th></th>\n",
       "      <th></th>\n",
       "      <th></th>\n",
       "      <th></th>\n",
       "      <th></th>\n",
       "      <th></th>\n",
       "      <th></th>\n",
       "      <th></th>\n",
       "      <th></th>\n",
       "      <th></th>\n",
       "    </tr>\n",
       "  </thead>\n",
       "  <tbody>\n",
       "    <tr>\n",
       "      <th>2018-01-26 09:55:03</th>\n",
       "      <td>/</td>\n",
       "      <td>1</td>\n",
       "      <td>8.0</td>\n",
       "      <td>97.105.19.61</td>\n",
       "      <td>8</td>\n",
       "      <td>Hampton</td>\n",
       "      <td>#hampton</td>\n",
       "      <td>2015-09-22</td>\n",
       "      <td>2016-02-06</td>\n",
       "      <td>2016-06-14 19:52:26</td>\n",
       "      <td>2016-06-14 19:52:26</td>\n",
       "      <td>1</td>\n",
       "      <td>full_stack_php</td>\n",
       "    </tr>\n",
       "    <tr>\n",
       "      <th>2018-01-26 09:56:02</th>\n",
       "      <td>java-ii</td>\n",
       "      <td>1</td>\n",
       "      <td>8.0</td>\n",
       "      <td>97.105.19.61</td>\n",
       "      <td>8</td>\n",
       "      <td>Hampton</td>\n",
       "      <td>#hampton</td>\n",
       "      <td>2015-09-22</td>\n",
       "      <td>2016-02-06</td>\n",
       "      <td>2016-06-14 19:52:26</td>\n",
       "      <td>2016-06-14 19:52:26</td>\n",
       "      <td>1</td>\n",
       "      <td>full_stack_php</td>\n",
       "    </tr>\n",
       "    <tr>\n",
       "      <th>2018-01-26 09:56:05</th>\n",
       "      <td>java-ii/object-oriented-programming</td>\n",
       "      <td>1</td>\n",
       "      <td>8.0</td>\n",
       "      <td>97.105.19.61</td>\n",
       "      <td>8</td>\n",
       "      <td>Hampton</td>\n",
       "      <td>#hampton</td>\n",
       "      <td>2015-09-22</td>\n",
       "      <td>2016-02-06</td>\n",
       "      <td>2016-06-14 19:52:26</td>\n",
       "      <td>2016-06-14 19:52:26</td>\n",
       "      <td>1</td>\n",
       "      <td>full_stack_php</td>\n",
       "    </tr>\n",
       "    <tr>\n",
       "      <th>2018-01-26 09:56:06</th>\n",
       "      <td>slides/object_oriented_programming</td>\n",
       "      <td>1</td>\n",
       "      <td>8.0</td>\n",
       "      <td>97.105.19.61</td>\n",
       "      <td>8</td>\n",
       "      <td>Hampton</td>\n",
       "      <td>#hampton</td>\n",
       "      <td>2015-09-22</td>\n",
       "      <td>2016-02-06</td>\n",
       "      <td>2016-06-14 19:52:26</td>\n",
       "      <td>2016-06-14 19:52:26</td>\n",
       "      <td>1</td>\n",
       "      <td>full_stack_php</td>\n",
       "    </tr>\n",
       "    <tr>\n",
       "      <th>2018-01-26 09:56:24</th>\n",
       "      <td>javascript-i/conditionals</td>\n",
       "      <td>2</td>\n",
       "      <td>22.0</td>\n",
       "      <td>97.105.19.61</td>\n",
       "      <td>22</td>\n",
       "      <td>Teddy</td>\n",
       "      <td>#teddy</td>\n",
       "      <td>2018-01-08</td>\n",
       "      <td>2018-05-17</td>\n",
       "      <td>2018-01-08 13:59:10</td>\n",
       "      <td>2018-01-08 13:59:10</td>\n",
       "      <td>2</td>\n",
       "      <td>java</td>\n",
       "    </tr>\n",
       "  </tbody>\n",
       "</table>\n",
       "</div>"
      ],
      "text/plain": [
       "                                                endpoint  user_id  cohort_id  \\\n",
       "dt                                                                             \n",
       "2018-01-26 09:55:03                                    /        1        8.0   \n",
       "2018-01-26 09:56:02                              java-ii        1        8.0   \n",
       "2018-01-26 09:56:05  java-ii/object-oriented-programming        1        8.0   \n",
       "2018-01-26 09:56:06   slides/object_oriented_programming        1        8.0   \n",
       "2018-01-26 09:56:24            javascript-i/conditionals        2       22.0   \n",
       "\n",
       "                               ip  id   cohort     slack start_date  \\\n",
       "dt                                                                    \n",
       "2018-01-26 09:55:03  97.105.19.61   8  Hampton  #hampton 2015-09-22   \n",
       "2018-01-26 09:56:02  97.105.19.61   8  Hampton  #hampton 2015-09-22   \n",
       "2018-01-26 09:56:05  97.105.19.61   8  Hampton  #hampton 2015-09-22   \n",
       "2018-01-26 09:56:06  97.105.19.61   8  Hampton  #hampton 2015-09-22   \n",
       "2018-01-26 09:56:24  97.105.19.61  22    Teddy    #teddy 2018-01-08   \n",
       "\n",
       "                      end_date          created_at          updated_at  \\\n",
       "dt                                                                       \n",
       "2018-01-26 09:55:03 2016-02-06 2016-06-14 19:52:26 2016-06-14 19:52:26   \n",
       "2018-01-26 09:56:02 2016-02-06 2016-06-14 19:52:26 2016-06-14 19:52:26   \n",
       "2018-01-26 09:56:05 2016-02-06 2016-06-14 19:52:26 2016-06-14 19:52:26   \n",
       "2018-01-26 09:56:06 2016-02-06 2016-06-14 19:52:26 2016-06-14 19:52:26   \n",
       "2018-01-26 09:56:24 2018-05-17 2018-01-08 13:59:10 2018-01-08 13:59:10   \n",
       "\n",
       "                     program_id         program  \n",
       "dt                                               \n",
       "2018-01-26 09:55:03           1  full_stack_php  \n",
       "2018-01-26 09:56:02           1  full_stack_php  \n",
       "2018-01-26 09:56:05           1  full_stack_php  \n",
       "2018-01-26 09:56:06           1  full_stack_php  \n",
       "2018-01-26 09:56:24           2            java  "
      ]
     },
     "execution_count": 8,
     "metadata": {},
     "output_type": "execute_result"
    }
   ],
   "source": [
    "df.head()"
   ]
  },
  {
   "cell_type": "code",
   "execution_count": 11,
   "metadata": {},
   "outputs": [
    {
     "data": {
      "text/html": [
       "<div>\n",
       "<style scoped>\n",
       "    .dataframe tbody tr th:only-of-type {\n",
       "        vertical-align: middle;\n",
       "    }\n",
       "\n",
       "    .dataframe tbody tr th {\n",
       "        vertical-align: top;\n",
       "    }\n",
       "\n",
       "    .dataframe thead th {\n",
       "        text-align: right;\n",
       "    }\n",
       "</style>\n",
       "<table border=\"1\" class=\"dataframe\">\n",
       "  <thead>\n",
       "    <tr style=\"text-align: right;\">\n",
       "      <th></th>\n",
       "      <th>endpoint</th>\n",
       "      <th>user_id</th>\n",
       "      <th>cohort_id</th>\n",
       "      <th>ip</th>\n",
       "      <th>id</th>\n",
       "      <th>cohort</th>\n",
       "      <th>slack</th>\n",
       "      <th>start_date</th>\n",
       "      <th>end_date</th>\n",
       "      <th>created_at</th>\n",
       "      <th>updated_at</th>\n",
       "      <th>program_id</th>\n",
       "      <th>program</th>\n",
       "    </tr>\n",
       "    <tr>\n",
       "      <th>dt</th>\n",
       "      <th></th>\n",
       "      <th></th>\n",
       "      <th></th>\n",
       "      <th></th>\n",
       "      <th></th>\n",
       "      <th></th>\n",
       "      <th></th>\n",
       "      <th></th>\n",
       "      <th></th>\n",
       "      <th></th>\n",
       "      <th></th>\n",
       "      <th></th>\n",
       "      <th></th>\n",
       "    </tr>\n",
       "  </thead>\n",
       "  <tbody>\n",
       "    <tr>\n",
       "      <th>2021-04-21 16:41:51</th>\n",
       "      <td>jquery/personal-site</td>\n",
       "      <td>64</td>\n",
       "      <td>28.0</td>\n",
       "      <td>71.150.217.33</td>\n",
       "      <td>28</td>\n",
       "      <td>Staff</td>\n",
       "      <td>#</td>\n",
       "      <td>2014-02-04</td>\n",
       "      <td>2014-02-04</td>\n",
       "      <td>2018-12-06 17:04:19</td>\n",
       "      <td>2018-12-06 17:04:19</td>\n",
       "      <td>2</td>\n",
       "      <td>java</td>\n",
       "    </tr>\n",
       "    <tr>\n",
       "      <th>2021-04-21 16:42:02</th>\n",
       "      <td>jquery/mapbox-api</td>\n",
       "      <td>64</td>\n",
       "      <td>28.0</td>\n",
       "      <td>71.150.217.33</td>\n",
       "      <td>28</td>\n",
       "      <td>Staff</td>\n",
       "      <td>#</td>\n",
       "      <td>2014-02-04</td>\n",
       "      <td>2014-02-04</td>\n",
       "      <td>2018-12-06 17:04:19</td>\n",
       "      <td>2018-12-06 17:04:19</td>\n",
       "      <td>2</td>\n",
       "      <td>java</td>\n",
       "    </tr>\n",
       "    <tr>\n",
       "      <th>2021-04-21 16:42:09</th>\n",
       "      <td>jquery/ajax/weather-map</td>\n",
       "      <td>64</td>\n",
       "      <td>28.0</td>\n",
       "      <td>71.150.217.33</td>\n",
       "      <td>28</td>\n",
       "      <td>Staff</td>\n",
       "      <td>#</td>\n",
       "      <td>2014-02-04</td>\n",
       "      <td>2014-02-04</td>\n",
       "      <td>2018-12-06 17:04:19</td>\n",
       "      <td>2018-12-06 17:04:19</td>\n",
       "      <td>2</td>\n",
       "      <td>java</td>\n",
       "    </tr>\n",
       "    <tr>\n",
       "      <th>2021-04-21 16:44:37</th>\n",
       "      <td>anomaly-detection/discrete-probabilistic-methods</td>\n",
       "      <td>744</td>\n",
       "      <td>28.0</td>\n",
       "      <td>24.160.137.86</td>\n",
       "      <td>28</td>\n",
       "      <td>Staff</td>\n",
       "      <td>#</td>\n",
       "      <td>2014-02-04</td>\n",
       "      <td>2014-02-04</td>\n",
       "      <td>2018-12-06 17:04:19</td>\n",
       "      <td>2018-12-06 17:04:19</td>\n",
       "      <td>2</td>\n",
       "      <td>java</td>\n",
       "    </tr>\n",
       "    <tr>\n",
       "      <th>2021-04-21 16:44:39</th>\n",
       "      <td>jquery/mapbox-api</td>\n",
       "      <td>64</td>\n",
       "      <td>28.0</td>\n",
       "      <td>71.150.217.33</td>\n",
       "      <td>28</td>\n",
       "      <td>Staff</td>\n",
       "      <td>#</td>\n",
       "      <td>2014-02-04</td>\n",
       "      <td>2014-02-04</td>\n",
       "      <td>2018-12-06 17:04:19</td>\n",
       "      <td>2018-12-06 17:04:19</td>\n",
       "      <td>2</td>\n",
       "      <td>java</td>\n",
       "    </tr>\n",
       "  </tbody>\n",
       "</table>\n",
       "</div>"
      ],
      "text/plain": [
       "                                                             endpoint  \\\n",
       "dt                                                                      \n",
       "2021-04-21 16:41:51                              jquery/personal-site   \n",
       "2021-04-21 16:42:02                                 jquery/mapbox-api   \n",
       "2021-04-21 16:42:09                           jquery/ajax/weather-map   \n",
       "2021-04-21 16:44:37  anomaly-detection/discrete-probabilistic-methods   \n",
       "2021-04-21 16:44:39                                 jquery/mapbox-api   \n",
       "\n",
       "                     user_id  cohort_id             ip  id cohort slack  \\\n",
       "dt                                                                        \n",
       "2021-04-21 16:41:51       64       28.0  71.150.217.33  28  Staff     #   \n",
       "2021-04-21 16:42:02       64       28.0  71.150.217.33  28  Staff     #   \n",
       "2021-04-21 16:42:09       64       28.0  71.150.217.33  28  Staff     #   \n",
       "2021-04-21 16:44:37      744       28.0  24.160.137.86  28  Staff     #   \n",
       "2021-04-21 16:44:39       64       28.0  71.150.217.33  28  Staff     #   \n",
       "\n",
       "                    start_date   end_date          created_at  \\\n",
       "dt                                                              \n",
       "2021-04-21 16:41:51 2014-02-04 2014-02-04 2018-12-06 17:04:19   \n",
       "2021-04-21 16:42:02 2014-02-04 2014-02-04 2018-12-06 17:04:19   \n",
       "2021-04-21 16:42:09 2014-02-04 2014-02-04 2018-12-06 17:04:19   \n",
       "2021-04-21 16:44:37 2014-02-04 2014-02-04 2018-12-06 17:04:19   \n",
       "2021-04-21 16:44:39 2014-02-04 2014-02-04 2018-12-06 17:04:19   \n",
       "\n",
       "                             updated_at  program_id program  \n",
       "dt                                                           \n",
       "2021-04-21 16:41:51 2018-12-06 17:04:19           2    java  \n",
       "2021-04-21 16:42:02 2018-12-06 17:04:19           2    java  \n",
       "2021-04-21 16:42:09 2018-12-06 17:04:19           2    java  \n",
       "2021-04-21 16:44:37 2018-12-06 17:04:19           2    java  \n",
       "2021-04-21 16:44:39 2018-12-06 17:04:19           2    java  "
      ]
     },
     "execution_count": 11,
     "metadata": {},
     "output_type": "execute_result"
    }
   ],
   "source": [
    "df.tail()"
   ]
  },
  {
   "cell_type": "markdown",
   "metadata": {},
   "source": [
    "2. Is there a cohort that referred to a lesson significantly more than other cohorts seemed to gloss over?"
   ]
  },
  {
   "cell_type": "code",
   "execution_count": null,
   "metadata": {},
   "outputs": [],
   "source": [
    "# let's make a df for each program\n",
    "df_1 = df[df['program_id'] ==1]\n",
    "df_2 = df[df['program_id'] ==2]\n",
    "df_3 = df[df['program_id'] ==3]\n",
    "df_4 = df[df['program_id'] ==4]"
   ]
  },
  {
   "cell_type": "code",
   "execution_count": null,
   "metadata": {},
   "outputs": [],
   "source": [
    "# Now let's make df w/o '/' endpoint\n",
    "df_1a = df_1[df_1['endpoint'] != '/']\n",
    "df_2a = df_2[df_2['endpoint'] != '/']\n",
    "df_3a = df_3[df_3['endpoint'] != '/']\n",
    "df_4a = df_4[df_4['endpoint'] != '/']"
   ]
  },
  {
   "cell_type": "code",
   "execution_count": null,
   "metadata": {},
   "outputs": [],
   "source": [
    "# Now break them down so we only have info we need\n",
    "df_1a = df_1a[['endpoint', 'cohort']]\n",
    "df_2a = df_2a[['endpoint', 'cohort']]\n",
    "df_3a = df_3a[['endpoint', 'cohort']]\n",
    "df_4a = df_4a[['endpoint', 'cohort']]"
   ]
  },
  {
   "cell_type": "code",
   "execution_count": null,
   "metadata": {},
   "outputs": [],
   "source": [
    "# Groupby 'endpoint' and get value counts for 'cohort'\n",
    "df_1b = pd.DataFrame(df_1a.groupby('endpoint')['cohort'].value_counts()).rename(columns = {'cohort':'count'})\n",
    "df_2b = pd.DataFrame(df_2a.groupby('endpoint')['cohort'].value_counts()).rename(columns = {'cohort':'count'})\n",
    "df_3b = pd.DataFrame(df_3a.groupby('endpoint')['cohort'].value_counts()).rename(columns = {'cohort':'count'})\n",
    "df_4b = pd.DataFrame(df_4a.groupby('endpoint')['cohort'].value_counts()).rename(columns = {'cohort':'count'})"
   ]
  },
  {
   "cell_type": "code",
   "execution_count": null,
   "metadata": {},
   "outputs": [],
   "source": [
    "df_1b = df_1b.reset_index(level=['endpoint', 'cohort'])\n",
    "df_2b = df_2b.reset_index(level=['endpoint', 'cohort'])\n",
    "df_3b = df_3b.reset_index(level=['endpoint', 'cohort'])\n",
    "df_4b = df_4b.reset_index(level=['endpoint', 'cohort'])"
   ]
  },
  {
   "cell_type": "code",
   "execution_count": null,
   "metadata": {},
   "outputs": [],
   "source": [
    "df_1b.shape"
   ]
  },
  {
   "cell_type": "markdown",
   "metadata": {},
   "source": [
    "### Program 1: Full-Stack"
   ]
  },
  {
   "cell_type": "code",
   "execution_count": null,
   "metadata": {},
   "outputs": [],
   "source": [
    "df_1c = pd.DataFrame(df_1b.groupby(['endpoint'])['count'].agg(['min']))\n",
    "df_1d = pd.DataFrame(df_1b.groupby(['endpoint'])['cohort'].agg(['min']))\n",
    "df_1e = pd.DataFrame(df_1b.groupby(['endpoint'])['count'].agg(['max']))\n",
    "df_1f = pd.DataFrame(df_1b.groupby(['endpoint'])['cohort'].agg(['max']))"
   ]
  },
  {
   "cell_type": "code",
   "execution_count": null,
   "metadata": {},
   "outputs": [],
   "source": [
    "df_1g = pd.merge(df_1c, df_1d, how='left', on='endpoint')\n",
    "df_1h = pd.merge(df_1e, df_1f, how='left', on='endpoint')\n",
    "df_1i = pd.merge(df_1g, df_1h, how='left', on='endpoint')"
   ]
  },
  {
   "cell_type": "code",
   "execution_count": null,
   "metadata": {},
   "outputs": [],
   "source": [
    "df_1i['range'] = df_1i['max_x']-df_1i['min_x']\n",
    "df_1i[df_1i['min_x']>10].sort_values(by='range', ascending=False)"
   ]
  },
  {
   "cell_type": "markdown",
   "metadata": {},
   "source": [
    "#### Key Findings & Takeaways:\n",
    "- We only wanted to look at values where the min number of page views > 10\n",
    "    - The assumption is that anything < 10 means it's probably not class related\n",
    "- There are 2 lessons where the range is greater than 50 ('java-iii/jsp-and-jstl', 'java-iii/jsp-and-jstl') \n",
    "- Both show Olympic viewing the lessons far more often than Arches"
   ]
  },
  {
   "cell_type": "markdown",
   "metadata": {},
   "source": [
    "### Program 2: Java"
   ]
  },
  {
   "cell_type": "code",
   "execution_count": null,
   "metadata": {},
   "outputs": [],
   "source": [
    "df_2c = pd.DataFrame(df_2b.groupby(['endpoint'])['count'].agg(['min']))\n",
    "df_2d = pd.DataFrame(df_2b.groupby(['endpoint'])['cohort'].agg(['min']))\n",
    "df_2e = pd.DataFrame(df_2b.groupby(['endpoint'])['count'].agg(['max']))\n",
    "df_2f = pd.DataFrame(df_2b.groupby(['endpoint'])['cohort'].agg(['max']))"
   ]
  },
  {
   "cell_type": "code",
   "execution_count": null,
   "metadata": {},
   "outputs": [],
   "source": [
    "df_2g = pd.merge(df_2c, df_2d, how='left', on='endpoint')\n",
    "df_2h = pd.merge(df_2e, df_2f, how='left', on='endpoint')\n",
    "df_2i = pd.merge(df_2g, df_2h, how='left', on='endpoint')"
   ]
  },
  {
   "cell_type": "code",
   "execution_count": null,
   "metadata": {},
   "outputs": [],
   "source": [
    "df_2i['range'] = df_2i['max_x']-df_2i['min_x']\n",
    "df_2i[df_2i['min_x']>10].sort_values(by='range', ascending=False)"
   ]
  },
  {
   "cell_type": "markdown",
   "metadata": {},
   "source": [
    "#### Key Findings & Takeaways:\n",
    "- We only wanted to look at values where the min number of page views > 10\n",
    "    - The assumption is that anything < 10 means it's probably not class related\n",
    "- There is only 1 lesson where the range is greater than 50 ('html-css/css-ii/bootstrap-grid-system\t')\n",
    "- This shows Zion viewing the lesson far more often than Andromeda"
   ]
  },
  {
   "cell_type": "markdown",
   "metadata": {},
   "source": [
    "### Program 3: Data Science"
   ]
  },
  {
   "cell_type": "code",
   "execution_count": null,
   "metadata": {},
   "outputs": [],
   "source": [
    "df_3c = pd.DataFrame(df_3b.groupby(['endpoint'])['count'].agg(['min']))\n",
    "df_3d = pd.DataFrame(df_3b.groupby(['endpoint'])['cohort'].agg(['min']))\n",
    "df_3e = pd.DataFrame(df_3b.groupby(['endpoint'])['count'].agg(['max']))\n",
    "df_3f = pd.DataFrame(df_3b.groupby(['endpoint'])['cohort'].agg(['max']))"
   ]
  },
  {
   "cell_type": "code",
   "execution_count": null,
   "metadata": {},
   "outputs": [],
   "source": [
    "df_3g = pd.merge(df_3c, df_3d, how='left', on='endpoint')\n",
    "df_3h = pd.merge(df_3e, df_3f, how='left', on='endpoint')\n",
    "df_3i = pd.merge(df_3g, df_3h, how='left', on='endpoint')"
   ]
  },
  {
   "cell_type": "code",
   "execution_count": null,
   "metadata": {},
   "outputs": [],
   "source": [
    "df_3i['range'] = df_3i['max_x']-df_3i['min_x']\n",
    "df_3i[df_3i['min_x']>10].sort_values(by='range', ascending=False).head(20)"
   ]
  },
  {
   "cell_type": "markdown",
   "metadata": {},
   "source": [
    "#### Key Findings & Takeaways:\n",
    "- We only wanted to look at values where the min number of page views > 10\n",
    "    - The assumption is that anything < 10 means it's probably not class related\n",
    "- There countless lessons where various cohorts ('Florence, Easley, Darden') outviewed Bayes\n",
    "- Some evidence to suggest positive relationship between cohort dates attended and page views"
   ]
  },
  {
   "cell_type": "markdown",
   "metadata": {},
   "source": [
    "### Program 4: Front End"
   ]
  },
  {
   "cell_type": "code",
   "execution_count": null,
   "metadata": {},
   "outputs": [],
   "source": [
    "df_4c = pd.DataFrame(df_4b.groupby(['endpoint'])['count'].agg(['min']))\n",
    "df_4d = pd.DataFrame(df_4b.groupby(['endpoint'])['cohort'].agg(['min']))\n",
    "df_4e = pd.DataFrame(df_4b.groupby(['endpoint'])['count'].agg(['max']))\n",
    "df_4f = pd.DataFrame(df_4b.groupby(['endpoint'])['cohort'].agg(['max']))"
   ]
  },
  {
   "cell_type": "code",
   "execution_count": null,
   "metadata": {},
   "outputs": [],
   "source": [
    "df_4g = pd.merge(df_4c, df_4d, how='left', on='endpoint')\n",
    "df_4h = pd.merge(df_4e, df_4f, how='left', on='endpoint')\n",
    "df_4i = pd.merge(df_4g, df_4h, how='left', on='endpoint')"
   ]
  },
  {
   "cell_type": "code",
   "execution_count": null,
   "metadata": {},
   "outputs": [],
   "source": [
    "df_4i['range'] = df_4i['max_x']-df_4i['min_x']\n",
    "df_4i[df_4i['min_x']>1].sort_values(by='range', ascending=False).head(20)"
   ]
  },
  {
   "cell_type": "code",
   "execution_count": null,
   "metadata": {},
   "outputs": [],
   "source": [
    "df_4i"
   ]
  },
  {
   "cell_type": "markdown",
   "metadata": {},
   "source": [
    "#### Key Findings & Takeaways:\n",
    "- We only wanted to look at values where the min number of page views > 10\n",
    "    - The assumption is that anything < 10 means it's probably not class related\n",
    "- No values showed up (not much data for this program)\n",
    "- Appears to only have been 1 cohort, for a very brief period of time"
   ]
  },
  {
   "cell_type": "code",
   "execution_count": null,
   "metadata": {},
   "outputs": [],
   "source": [
    "import explore"
   ]
  },
  {
   "cell_type": "markdown",
   "metadata": {},
   "source": [
    "6. What topics are grads continuing to reference after graduation and into their jobs (for each program)?"
   ]
  },
  {
   "cell_type": "markdown",
   "metadata": {},
   "source": [
    "#### Steps to answering question 6:\n",
    "- [x] Reacquire data\n",
    "- [x] Redo initial_prep\n",
    "- [x] Use remove_home function from q2\n",
    "- [x] Remove all enties where 'end_date' > index\n",
    "- [x] Create q6_cols function that keeps 'index', 'cohort', 'endpoint', 'end_date', 'program_id'\n",
    "- [x] Use split_by_program function from q2"
   ]
  },
  {
   "cell_type": "code",
   "execution_count": null,
   "metadata": {},
   "outputs": [],
   "source": [
    "# Reacquire data\n",
    "df = acquire.get_cohort_curr_data()"
   ]
  },
  {
   "cell_type": "code",
   "execution_count": null,
   "metadata": {},
   "outputs": [],
   "source": [
    "# Redo initial_prep\n",
    "df = prepare.initial_prep(df)"
   ]
  },
  {
   "cell_type": "code",
   "execution_count": null,
   "metadata": {},
   "outputs": [],
   "source": [
    "# Use remove_home function\n",
    "df = explore.remove_home(df)"
   ]
  },
  {
   "cell_type": "code",
   "execution_count": null,
   "metadata": {},
   "outputs": [],
   "source": [
    "# Only return entries where student has graduated\n",
    "df = explore.grads_only(df)"
   ]
  },
  {
   "cell_type": "code",
   "execution_count": null,
   "metadata": {},
   "outputs": [],
   "source": [
    "# return only columns needed for q6\n",
    "df = explore.q6_cols(df)"
   ]
  },
  {
   "cell_type": "code",
   "execution_count": null,
   "metadata": {},
   "outputs": [],
   "source": [
    "# Use split_by_program function\n",
    "df_1, df_2, df_3, df_4 = explore.split_by_program(df)"
   ]
  },
  {
   "cell_type": "code",
   "execution_count": null,
   "metadata": {},
   "outputs": [],
   "source": [
    "df_1, df_2, df_3, df_4 = explore.endpoint_group(df_1, df_2, df_3, df_4)"
   ]
  },
  {
   "cell_type": "code",
   "execution_count": null,
   "metadata": {},
   "outputs": [],
   "source": [
    "df_10 = explore.q6_math(df_1)"
   ]
  },
  {
   "cell_type": "code",
   "execution_count": null,
   "metadata": {},
   "outputs": [],
   "source": [
    "df_10 = explore.add_zscore_cols(df_10)"
   ]
  },
  {
   "cell_type": "code",
   "execution_count": null,
   "metadata": {},
   "outputs": [],
   "source": [
    "df_10[df_10['zscore']>3].sort_values(by='zscore', ascending=False)"
   ]
  },
  {
   "cell_type": "code",
   "execution_count": null,
   "metadata": {},
   "outputs": [],
   "source": []
  }
 ],
 "metadata": {
  "kernelspec": {
   "display_name": "Python 3.8.5 64-bit ('base': conda)",
   "language": "python",
   "name": "python385jvsc74a57bd0b64057e63add2b45b1ffc7eab9b09c8889b419c878e2fdf0d08f837f0fc857a7"
  },
  "language_info": {
   "codemirror_mode": {
    "name": "ipython",
    "version": 3
   },
   "file_extension": ".py",
   "mimetype": "text/x-python",
   "name": "python",
   "nbconvert_exporter": "python",
   "pygments_lexer": "ipython3",
   "version": "3.8.5"
  }
 },
 "nbformat": 4,
 "nbformat_minor": 4
}
